{
 "cells": [
  {
   "cell_type": "code",
   "execution_count": 4,
   "metadata": {},
   "outputs": [],
   "source": [
    "def get_input():\n",
    "    with open('input.txt') as f:\n",
    "        input = [x.split(',') for x in f.read().split('\\n')]\n",
    "        \n",
    "    return input\n",
    "\n",
    "def manhattan(x1, x2, y1, y2):\n",
    "    return abs(x1 - x2) + abs(y1 - y2)\n",
    "\n",
    "def find_intersections(input):\n",
    "    coords = set()\n",
    "    intersections = []\n",
    "    \n",
    "    for i, w in enumerate(input):\n",
    "        x, y = 0, 0\n",
    "        \n",
    "        for d in w:\n",
    "            for j in range(0, int(d[1:])):\n",
    "                if(d[0] == 'R'):\n",
    "                    x = x + 1\n",
    "                    y = y\n",
    "                    \n",
    "                if(d[0] == 'L'):\n",
    "                    x = x - 1\n",
    "                    y = y\n",
    "                    \n",
    "                if(d[0] == 'U'):\n",
    "                    x = x\n",
    "                    y = y + 1\n",
    "                    \n",
    "                if(d[0] == 'D'):\n",
    "                    x = x\n",
    "                    y = y - 1\n",
    "                    \n",
    "                coord = (x, y)\n",
    "                \n",
    "                if(i == 0):\n",
    "                    coords.add(coord)\n",
    "                else:\n",
    "                    if(coord in coords):\n",
    "                        intersections.append(manhattan(coord[0], 0, coord[1], 0))\n",
    "            \n",
    "    return min(intersections)\n",
    "            \n",
    "    "
   ]
  },
  {
   "cell_type": "code",
   "execution_count": 5,
   "metadata": {
    "scrolled": true
   },
   "outputs": [
    {
     "name": "stdout",
     "output_type": "stream",
     "text": [
      "731\n"
     ]
    }
   ],
   "source": [
    "input = get_input()\n",
    "\n",
    "intersections = find_intersections(input)\n",
    "print(intersections)"
   ]
  },
  {
   "cell_type": "code",
   "execution_count": 6,
   "metadata": {},
   "outputs": [],
   "source": [
    "def find_set_intersections(d1, d2):\n",
    "    return list(set(d1.keys()) & set(d2.keys()))\n",
    "\n",
    "def intersection_min_combined_steps(intrs, d1, d2):\n",
    "    return min([d1[i] + d2[i] for i in intrs])\n",
    "\n",
    "def generate_coordinates(wire):\n",
    "    x, y, step = 0, 0, 0    \n",
    "    coords = {}\n",
    "    \n",
    "    for d in wire:\n",
    "        for j in range(0, int(d[1:])):\n",
    "            if(d[0] == 'R'):\n",
    "                x = x + 1\n",
    "                y = y\n",
    "                \n",
    "            if(d[0] == 'L'):\n",
    "                x = x - 1\n",
    "                y = y\n",
    "                \n",
    "            if(d[0] == 'U'):\n",
    "                x = x\n",
    "                y = y + 1\n",
    "                \n",
    "            if(d[0] == 'D'):\n",
    "                x = x\n",
    "                y = y - 1\n",
    "                \n",
    "            step = step + 1\n",
    "            coords[(x, y)] = step\n",
    "            \n",
    "    return coords"
   ]
  },
  {
   "cell_type": "code",
   "execution_count": 7,
   "metadata": {},
   "outputs": [
    {
     "name": "stdout",
     "output_type": "stream",
     "text": [
      "5672\n"
     ]
    }
   ],
   "source": [
    "w1_coords = generate_coordinates(input[0])\n",
    "w2_coords = generate_coordinates(input[1])\n",
    "intersections = find_set_intersections(w1_coords, w2_coords)\n",
    "\n",
    "print(intersection_min_combined_steps(intersections, w1_coords, w2_coords))"
   ]
  }
 ],
 "metadata": {
  "kernelspec": {
   "display_name": "Python 3",
   "language": "python",
   "name": "python3"
  },
  "language_info": {
   "codemirror_mode": {
    "name": "ipython",
    "version": 3
   },
   "file_extension": ".py",
   "mimetype": "text/x-python",
   "name": "python",
   "nbconvert_exporter": "python",
   "pygments_lexer": "ipython3",
   "version": "3.10.6"
  },
  "vscode": {
   "interpreter": {
    "hash": "294e39144cb243253f7abe2a1814956aa2a9778dec5abd027e92174b503615a5"
   }
  }
 },
 "nbformat": 4,
 "nbformat_minor": 2
}
