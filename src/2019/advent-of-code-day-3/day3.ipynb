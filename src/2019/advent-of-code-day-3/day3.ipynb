{
 "cells": [
  {
   "cell_type": "code",
   "execution_count": 230,
   "metadata": {},
   "outputs": [],
   "source": [
    "def get_input():\n",
    "    with open('day3-input.txt') as f:\n",
    "        input = [x.split(',') for x in f.read().split('\\n')]\n",
    "        \n",
    "    return input\n",
    "\n",
    "def manhattan(x1, x2, y1, y2):\n",
    "    return abs(x1 - x2) + abs(y1 - y2)\n",
    "\n",
    "def find_intersections(input):\n",
    "    coords = set()\n",
    "    intersections = []\n",
    "    \n",
    "    for i, w in enumerate(input):\n",
    "        x, y = 0, 0\n",
    "        \n",
    "        for d in w:\n",
    "            for j in range(0, int(d[1:])):\n",
    "                if(d[0] == 'R'):\n",
    "                    x = x + 1\n",
    "                    y = y\n",
    "                    \n",
    "                if(d[0] == 'L'):\n",
    "                    x = x - 1\n",
    "                    y = y\n",
    "                    \n",
    "                if(d[0] == 'U'):\n",
    "                    x = x\n",
    "                    y = y + 1\n",
    "                    \n",
    "                if(d[0] == 'D'):\n",
    "                    x = x\n",
    "                    y = y - 1\n",
    "                    \n",
    "                coord = (x, y)\n",
    "                \n",
    "                if(i == 0):\n",
    "                    coords.add(coord)\n",
    "                else:\n",
    "                    if(coord in coords):\n",
    "                        intersections.append(manhattan(coord[0], 0, coord[1], 0))\n",
    "            \n",
    "    return min(intersections)\n",
    "            \n",
    "    "
   ]
  },
  {
   "cell_type": "code",
   "execution_count": 231,
   "metadata": {
    "scrolled": true
   },
   "outputs": [
    {
     "name": "stdout",
     "output_type": "stream",
     "text": [
      "731\n"
     ]
    }
   ],
   "source": [
    "input = get_input()\n",
    "\n",
    "intr = find_intersections(input)\n",
    "print(intr)"
   ]
  },
  {
   "cell_type": "code",
   "execution_count": null,
   "metadata": {},
   "outputs": [],
   "source": []
  }
 ],
 "metadata": {
  "kernelspec": {
   "display_name": "Python 3",
   "language": "python",
   "name": "python3"
  },
  "language_info": {
   "codemirror_mode": {
    "name": "ipython",
    "version": 3
   },
   "file_extension": ".py",
   "mimetype": "text/x-python",
   "name": "python",
   "nbconvert_exporter": "python",
   "pygments_lexer": "ipython3",
   "version": "3.7.4"
  }
 },
 "nbformat": 4,
 "nbformat_minor": 2
}
