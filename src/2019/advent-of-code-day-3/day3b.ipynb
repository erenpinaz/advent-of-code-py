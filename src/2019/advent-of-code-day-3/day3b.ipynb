{
 "cells": [
  {
   "cell_type": "code",
   "execution_count": 35,
   "metadata": {},
   "outputs": [],
   "source": [
    "def get_input():\n",
    "    with open('day3-input.txt') as f:\n",
    "        input = [x.split(',') for x in f.read().split('\\n')]\n",
    "        \n",
    "    return input\n",
    "\n",
    "def find_intersections(d1, d2):\n",
    "    return list(set(d1.keys()) & set(d2.keys()))\n",
    "\n",
    "def intersection_min_combined_steps(intrs, d1, d2):\n",
    "    return min([d1[i] + d2[i] for i in intrs])\n",
    "\n",
    "def generate_coordinates(wire):\n",
    "    x, y, step = 0, 0, 0    \n",
    "    coords = {}\n",
    "    \n",
    "    for d in wire:\n",
    "        for j in range(0, int(d[1:])):\n",
    "            if(d[0] == 'R'):\n",
    "                x = x + 1\n",
    "                y = y\n",
    "                \n",
    "            if(d[0] == 'L'):\n",
    "                x = x - 1\n",
    "                y = y\n",
    "                \n",
    "            if(d[0] == 'U'):\n",
    "                x = x\n",
    "                y = y + 1\n",
    "                \n",
    "            if(d[0] == 'D'):\n",
    "                x = x\n",
    "                y = y - 1\n",
    "                \n",
    "            step = step + 1\n",
    "            coords[(x, y)] = step\n",
    "            \n",
    "    return coords\n",
    "            \n"
   ]
  },
  {
   "cell_type": "code",
   "execution_count": 36,
   "metadata": {},
   "outputs": [
    {
     "name": "stdout",
     "output_type": "stream",
     "text": [
      "5672\n"
     ]
    }
   ],
   "source": [
    "input = get_input()\n",
    "\n",
    "w1_coords = generate_coordinates(input[0])\n",
    "w2_coords = generate_coordinates(input[1])\n",
    "intersections = find_intersections(w1_coords, w2_coords)\n",
    "\n",
    "print(intersection_min_combined_steps(intersections, w1_coords, w2_coords))\n"
   ]
  },
  {
   "cell_type": "code",
   "execution_count": null,
   "metadata": {},
   "outputs": [],
   "source": []
  }
 ],
 "metadata": {
  "kernelspec": {
   "display_name": "Python 3",
   "language": "python",
   "name": "python3"
  },
  "language_info": {
   "codemirror_mode": {
    "name": "ipython",
    "version": 3
   },
   "file_extension": ".py",
   "mimetype": "text/x-python",
   "name": "python",
   "nbconvert_exporter": "python",
   "pygments_lexer": "ipython3",
   "version": "3.7.4"
  }
 },
 "nbformat": 4,
 "nbformat_minor": 2
}
