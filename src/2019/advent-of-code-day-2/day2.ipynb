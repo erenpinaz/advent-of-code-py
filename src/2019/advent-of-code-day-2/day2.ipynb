{
 "cells": [
  {
   "cell_type": "code",
   "execution_count": 7,
   "metadata": {},
   "outputs": [],
   "source": [
    "def get_input(n, v):\n",
    "    with open('input.txt') as f:\n",
    "        input = [int(x.strip()) for x in f.read().split(',')]\n",
    "    \n",
    "    input[1] = n\n",
    "    input[2] = v\n",
    "        \n",
    "    return input\n",
    "\n",
    "def calculate_output(n, v):\n",
    "    input = get_input(n, v)\n",
    "    \n",
    "    for i in range(0, len(input), 4):        \n",
    "        if input[i] == 99:\n",
    "            break\n",
    "\n",
    "        if input[i] == 1:\n",
    "            input[input[i + 3]] = input[input[i + 1]] + input[input[i + 2]]\n",
    "        if input[i] == 2:\n",
    "            input[input[i + 3]] = input[input[i + 1]] * input[input[i + 2]]\n",
    "    \n",
    "    return input[0]\n",
    "\n",
    "def find_output(output):\n",
    "    for i in range (0, 100):\n",
    "        for j in range (0, 100):\n",
    "            result = calculate_output(i, j)\n",
    "            \n",
    "            if(result == output):\n",
    "                print((100 * i) + j)\n",
    "                break"
   ]
  },
  {
   "cell_type": "code",
   "execution_count": 8,
   "metadata": {},
   "outputs": [
    {
     "name": "stdout",
     "output_type": "stream",
     "text": [
      "4138658\n"
     ]
    }
   ],
   "source": [
    "print(calculate_output(12, 2));"
   ]
  },
  {
   "cell_type": "code",
   "execution_count": 9,
   "metadata": {},
   "outputs": [
    {
     "name": "stdout",
     "output_type": "stream",
     "text": [
      "7264\n"
     ]
    }
   ],
   "source": [
    "find_output(19690720);"
   ]
  }
 ],
 "metadata": {
  "kernelspec": {
   "display_name": "Python 3",
   "language": "python",
   "name": "python3"
  },
  "language_info": {
   "codemirror_mode": {
    "name": "ipython",
    "version": 3
   },
   "file_extension": ".py",
   "mimetype": "text/x-python",
   "name": "python",
   "nbconvert_exporter": "python",
   "pygments_lexer": "ipython3",
   "version": "3.10.6"
  },
  "vscode": {
   "interpreter": {
    "hash": "294e39144cb243253f7abe2a1814956aa2a9778dec5abd027e92174b503615a5"
   }
  }
 },
 "nbformat": 4,
 "nbformat_minor": 2
}
